{
 "cells": [
  {
   "cell_type": "code",
   "execution_count": 29,
   "id": "0e1b2a85",
   "metadata": {},
   "outputs": [],
   "source": [
    "import pandas as pd\n",
    "import numpy as np\n",
    "import seaborn as sns\n",
    "from bs4 import BeautifulSoup\n",
    "import requests\n",
    "import statistics\n",
    "import math"
   ]
  },
  {
   "cell_type": "code",
   "execution_count": 30,
   "id": "4ce6c7ca",
   "metadata": {},
   "outputs": [],
   "source": [
    "franchID_lst = ['BOS','NJN','UTA','TOR','PHI','NYK','MIN','OKC', 'DEN', 'POR', 'MIA', 'WAS', 'ORL', 'MIL', 'ATL', 'IND', 'CLE', 'CHI', 'CHA', 'DET', 'MEM', 'DAL', 'NOH', 'GSW', 'LAL', 'LAC', 'SAC', 'SAS', 'HOU', 'PHO']\n",
    "url = 'https://www.basketball-reference.com/teams/{}/'\n",
    "nba_franch = pd.DataFrame()\n",
    "for i in range(len(franchID_lst)):\n",
    "    temp = pd.DataFrame()\n",
    "    team_url = url.format(franchID_lst[i])\n",
    "    #print(team_url)\n",
    "    tables = pd.read_html(team_url)\n",
    "    temp = tables[0]\n",
    "    \n",
    "    temp.reindex(index=nba_franch.index[::-1])\n",
    "    temp['URL'] = team_url\n",
    "    temp['Net Rtg'] = temp.apply(lambda row: row.ORtg - row.DRtg,  axis=1)\n",
    "    frames = [nba_franch, temp]\n",
    "    \n",
    "    nba_franch = pd.concat(frames)"
   ]
  },
  {
   "cell_type": "code",
   "execution_count": 31,
   "id": "19346e87",
   "metadata": {},
   "outputs": [],
   "source": [
    "nba_franch = nba_franch.drop(columns=['Unnamed: 8', 'Pace', 'Finish', 'W', 'L', 'Unnamed: 15', 'Playoffs', 'Coaches', 'Top WS', 'Net Rtg'])"
   ]
  },
  {
   "cell_type": "code",
   "execution_count": 32,
   "id": "015a22fd",
   "metadata": {},
   "outputs": [],
   "source": [
    "nba_franch.to_csv('every_team_season.csv')"
   ]
  },
  {
   "cell_type": "code",
   "execution_count": null,
   "id": "66718e1f",
   "metadata": {},
   "outputs": [],
   "source": []
  }
 ],
 "metadata": {
  "kernelspec": {
   "display_name": "Python 3 (ipykernel)",
   "language": "python",
   "name": "python3"
  },
  "language_info": {
   "codemirror_mode": {
    "name": "ipython",
    "version": 3
   },
   "file_extension": ".py",
   "mimetype": "text/x-python",
   "name": "python",
   "nbconvert_exporter": "python",
   "pygments_lexer": "ipython3",
   "version": "3.8.8"
  }
 },
 "nbformat": 4,
 "nbformat_minor": 5
}
